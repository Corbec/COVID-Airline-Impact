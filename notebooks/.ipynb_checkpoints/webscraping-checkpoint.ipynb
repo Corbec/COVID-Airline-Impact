{
 "cells": [
  {
   "cell_type": "code",
   "execution_count": 8,
   "metadata": {},
   "outputs": [],
   "source": [
    "import pandas as pd\n",
    "import numpy as np\n",
    "import matplotlib.pyplot as plt\n",
    "import seaborn as sns\n",
    "import requests\n",
    "from bs4 import BeautifulSoup  \n",
    "\n",
    "%matplotlib inline"
   ]
  },
  {
   "cell_type": "code",
   "execution_count": 9,
   "metadata": {},
   "outputs": [],
   "source": [
    "urlbase = 'https://www.tsa.gov/coronavirus/passenger-throughput?page='\n",
    "pages = 2"
   ]
  },
  {
   "cell_type": "code",
   "execution_count": 14,
   "metadata": {},
   "outputs": [],
   "source": [
    "def web_scrape(url, pages):\n",
    "    \"\"\"Returns a DataFrame of all pages of TSA website.\n",
    "        url is the URL of the website.\n",
    "        pages is the number of pages to scrape.\"\"\"\n",
    "    final_list = []\n",
    "    df = pd.DataFrame()\n",
    "    for p in range(0, pages): # pages + 1 because range stops at the last number\n",
    "        response = requests.get(url + str(p)) # Goes to URL and adds p to end of it to select page.\n",
    "        soup = BeautifulSoup(response.content, 'lxml')\n",
    "        tables = soup.find_all('table', attrs = {'class': 'views-table views-view-table cols-3'})\n",
    "        result_list = pd.read_html(str(tables[0]))\n",
    "        final_list = result_list[0]\n",
    "        df = df.append(final_list, ignore_index = True)\n",
    "    return df  "
   ]
  },
  {
   "cell_type": "code",
   "execution_count": 15,
   "metadata": {},
   "outputs": [],
   "source": [
    "tsa = web_scrape(urlbase, pages)"
   ]
  },
  {
   "cell_type": "code",
   "execution_count": 16,
   "metadata": {},
   "outputs": [
    {
     "data": {
      "text/html": [
       "<div>\n",
       "<style scoped>\n",
       "    .dataframe tbody tr th:only-of-type {\n",
       "        vertical-align: middle;\n",
       "    }\n",
       "\n",
       "    .dataframe tbody tr th {\n",
       "        vertical-align: top;\n",
       "    }\n",
       "\n",
       "    .dataframe thead th {\n",
       "        text-align: right;\n",
       "    }\n",
       "</style>\n",
       "<table border=\"1\" class=\"dataframe\">\n",
       "  <thead>\n",
       "    <tr style=\"text-align: right;\">\n",
       "      <th></th>\n",
       "      <th>Date</th>\n",
       "      <th>Total Traveler Throughput</th>\n",
       "      <th>Total Traveler Throughput (1 Year Ago - Same Weekday)</th>\n",
       "    </tr>\n",
       "  </thead>\n",
       "  <tbody>\n",
       "    <tr>\n",
       "      <th>0</th>\n",
       "      <td>12/9/2020</td>\n",
       "      <td>564372</td>\n",
       "      <td>2020488</td>\n",
       "    </tr>\n",
       "    <tr>\n",
       "      <th>1</th>\n",
       "      <td>12/8/2020</td>\n",
       "      <td>501513</td>\n",
       "      <td>1897051</td>\n",
       "    </tr>\n",
       "    <tr>\n",
       "      <th>2</th>\n",
       "      <td>12/7/2020</td>\n",
       "      <td>703546</td>\n",
       "      <td>2226290</td>\n",
       "    </tr>\n",
       "    <tr>\n",
       "      <th>3</th>\n",
       "      <td>12/6/2020</td>\n",
       "      <td>837137</td>\n",
       "      <td>2292079</td>\n",
       "    </tr>\n",
       "    <tr>\n",
       "      <th>4</th>\n",
       "      <td>12/5/2020</td>\n",
       "      <td>629430</td>\n",
       "      <td>1755801</td>\n",
       "    </tr>\n",
       "    <tr>\n",
       "      <th>...</th>\n",
       "      <td>...</td>\n",
       "      <td>...</td>\n",
       "      <td>...</td>\n",
       "    </tr>\n",
       "    <tr>\n",
       "      <th>279</th>\n",
       "      <td>3/5/2020</td>\n",
       "      <td>2130015</td>\n",
       "      <td>2402692</td>\n",
       "    </tr>\n",
       "    <tr>\n",
       "      <th>280</th>\n",
       "      <td>3/4/2020</td>\n",
       "      <td>1877401</td>\n",
       "      <td>2143619</td>\n",
       "    </tr>\n",
       "    <tr>\n",
       "      <th>281</th>\n",
       "      <td>3/3/2020</td>\n",
       "      <td>1736393</td>\n",
       "      <td>1979558</td>\n",
       "    </tr>\n",
       "    <tr>\n",
       "      <th>282</th>\n",
       "      <td>3/2/2020</td>\n",
       "      <td>2089641</td>\n",
       "      <td>2257920</td>\n",
       "    </tr>\n",
       "    <tr>\n",
       "      <th>283</th>\n",
       "      <td>3/1/2020</td>\n",
       "      <td>2280522</td>\n",
       "      <td>2301439</td>\n",
       "    </tr>\n",
       "  </tbody>\n",
       "</table>\n",
       "<p>284 rows × 3 columns</p>\n",
       "</div>"
      ],
      "text/plain": [
       "          Date  Total Traveler Throughput  \\\n",
       "0    12/9/2020                     564372   \n",
       "1    12/8/2020                     501513   \n",
       "2    12/7/2020                     703546   \n",
       "3    12/6/2020                     837137   \n",
       "4    12/5/2020                     629430   \n",
       "..         ...                        ...   \n",
       "279   3/5/2020                    2130015   \n",
       "280   3/4/2020                    1877401   \n",
       "281   3/3/2020                    1736393   \n",
       "282   3/2/2020                    2089641   \n",
       "283   3/1/2020                    2280522   \n",
       "\n",
       "     Total Traveler Throughput (1 Year Ago - Same Weekday)  \n",
       "0                                              2020488      \n",
       "1                                              1897051      \n",
       "2                                              2226290      \n",
       "3                                              2292079      \n",
       "4                                              1755801      \n",
       "..                                                 ...      \n",
       "279                                            2402692      \n",
       "280                                            2143619      \n",
       "281                                            1979558      \n",
       "282                                            2257920      \n",
       "283                                            2301439      \n",
       "\n",
       "[284 rows x 3 columns]"
      ]
     },
     "execution_count": 16,
     "metadata": {},
     "output_type": "execute_result"
    }
   ],
   "source": [
    "tsa"
   ]
  },
  {
   "cell_type": "code",
   "execution_count": 17,
   "metadata": {},
   "outputs": [
    {
     "name": "stdout",
     "output_type": "stream",
     "text": [
      "<class 'pandas.core.frame.DataFrame'>\n",
      "RangeIndex: 284 entries, 0 to 283\n",
      "Data columns (total 3 columns):\n",
      " #   Column                                                 Non-Null Count  Dtype \n",
      "---  ------                                                 --------------  ----- \n",
      " 0   Date                                                   284 non-null    object\n",
      " 1   Total Traveler Throughput                              284 non-null    int64 \n",
      " 2   Total Traveler Throughput (1 Year Ago - Same Weekday)  284 non-null    int64 \n",
      "dtypes: int64(2), object(1)\n",
      "memory usage: 6.8+ KB\n"
     ]
    }
   ],
   "source": [
    "tsa.info()"
   ]
  },
  {
   "cell_type": "code",
   "execution_count": 20,
   "metadata": {},
   "outputs": [],
   "source": [
    "tsa['Date'] = pd.to_datetime(tsa['Date'], format = '%m/%d/%Y')"
   ]
  },
  {
   "cell_type": "code",
   "execution_count": 21,
   "metadata": {},
   "outputs": [
    {
     "name": "stdout",
     "output_type": "stream",
     "text": [
      "<class 'pandas.core.frame.DataFrame'>\n",
      "RangeIndex: 284 entries, 0 to 283\n",
      "Data columns (total 3 columns):\n",
      " #   Column                                                 Non-Null Count  Dtype         \n",
      "---  ------                                                 --------------  -----         \n",
      " 0   Date                                                   284 non-null    datetime64[ns]\n",
      " 1   Total Traveler Throughput                              284 non-null    int64         \n",
      " 2   Total Traveler Throughput (1 Year Ago - Same Weekday)  284 non-null    int64         \n",
      "dtypes: datetime64[ns](1), int64(2)\n",
      "memory usage: 6.8 KB\n"
     ]
    }
   ],
   "source": [
    "tsa.info()"
   ]
  },
  {
   "cell_type": "code",
   "execution_count": 22,
   "metadata": {},
   "outputs": [
    {
     "data": {
      "text/html": [
       "<div>\n",
       "<style scoped>\n",
       "    .dataframe tbody tr th:only-of-type {\n",
       "        vertical-align: middle;\n",
       "    }\n",
       "\n",
       "    .dataframe tbody tr th {\n",
       "        vertical-align: top;\n",
       "    }\n",
       "\n",
       "    .dataframe thead th {\n",
       "        text-align: right;\n",
       "    }\n",
       "</style>\n",
       "<table border=\"1\" class=\"dataframe\">\n",
       "  <thead>\n",
       "    <tr style=\"text-align: right;\">\n",
       "      <th></th>\n",
       "      <th>Date</th>\n",
       "      <th>Total Traveler Throughput</th>\n",
       "      <th>Total Traveler Throughput (1 Year Ago - Same Weekday)</th>\n",
       "    </tr>\n",
       "  </thead>\n",
       "  <tbody>\n",
       "    <tr>\n",
       "      <th>0</th>\n",
       "      <td>2020-12-09</td>\n",
       "      <td>564372</td>\n",
       "      <td>2020488</td>\n",
       "    </tr>\n",
       "    <tr>\n",
       "      <th>1</th>\n",
       "      <td>2020-12-08</td>\n",
       "      <td>501513</td>\n",
       "      <td>1897051</td>\n",
       "    </tr>\n",
       "  </tbody>\n",
       "</table>\n",
       "</div>"
      ],
      "text/plain": [
       "        Date  Total Traveler Throughput  \\\n",
       "0 2020-12-09                     564372   \n",
       "1 2020-12-08                     501513   \n",
       "\n",
       "   Total Traveler Throughput (1 Year Ago - Same Weekday)  \n",
       "0                                            2020488      \n",
       "1                                            1897051      "
      ]
     },
     "execution_count": 22,
     "metadata": {},
     "output_type": "execute_result"
    }
   ],
   "source": [
    "tsa.head(2)"
   ]
  },
  {
   "cell_type": "code",
   "execution_count": 23,
   "metadata": {},
   "outputs": [],
   "source": [
    "tsa.to_csv('../data/tsa.csv')"
   ]
  },
  {
   "cell_type": "code",
   "execution_count": null,
   "metadata": {},
   "outputs": [],
   "source": []
  }
 ],
 "metadata": {
  "kernelspec": {
   "display_name": "Python 3",
   "language": "python",
   "name": "python3"
  },
  "language_info": {
   "codemirror_mode": {
    "name": "ipython",
    "version": 3
   },
   "file_extension": ".py",
   "mimetype": "text/x-python",
   "name": "python",
   "nbconvert_exporter": "python",
   "pygments_lexer": "ipython3",
   "version": "3.8.3"
  }
 },
 "nbformat": 4,
 "nbformat_minor": 4
}
